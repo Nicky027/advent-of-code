{
 "cells": [
  {
   "cell_type": "markdown",
   "metadata": {},
   "source": [
    "# Day 1 "
   ]
  },
  {
   "cell_type": "markdown",
   "metadata": {},
   "source": [
    "## Part 1 "
   ]
  },
  {
   "cell_type": "code",
   "execution_count": 1,
   "metadata": {
    "ExecuteTime": {
     "end_time": "2020-12-05T08:27:32.839739Z",
     "start_time": "2020-12-05T08:27:32.836272Z"
    }
   },
   "outputs": [],
   "source": [
    "import math"
   ]
  },
  {
   "cell_type": "code",
   "execution_count": 2,
   "metadata": {
    "ExecuteTime": {
     "end_time": "2020-12-05T08:27:32.856917Z",
     "start_time": "2020-12-05T08:27:32.843674Z"
    }
   },
   "outputs": [],
   "source": [
    "def GetFuelRequired(module_mass):\n",
    "    return math.floor(module_mass / 3.0) - 2"
   ]
  },
  {
   "cell_type": "code",
   "execution_count": 3,
   "metadata": {
    "ExecuteTime": {
     "end_time": "2020-12-05T08:27:32.860964Z",
     "start_time": "2020-12-05T08:27:32.858744Z"
    }
   },
   "outputs": [],
   "source": [
    "masses = []"
   ]
  },
  {
   "cell_type": "code",
   "execution_count": 4,
   "metadata": {
    "ExecuteTime": {
     "end_time": "2020-12-05T08:27:32.871454Z",
     "start_time": "2020-12-05T08:27:32.864540Z"
    }
   },
   "outputs": [],
   "source": [
    "file = open('module_masses.txt','r')"
   ]
  },
  {
   "cell_type": "code",
   "execution_count": 5,
   "metadata": {
    "ExecuteTime": {
     "end_time": "2020-12-05T08:27:32.881669Z",
     "start_time": "2020-12-05T08:27:32.876132Z"
    }
   },
   "outputs": [],
   "source": [
    "for line in file:\n",
    "    masses.append(line.replace('\\n',''))"
   ]
  },
  {
   "cell_type": "code",
   "execution_count": 6,
   "metadata": {
    "ExecuteTime": {
     "end_time": "2020-12-05T08:27:32.890499Z",
     "start_time": "2020-12-05T08:27:32.885705Z"
    }
   },
   "outputs": [],
   "source": [
    "total_fuel_required = 0"
   ]
  },
  {
   "cell_type": "code",
   "execution_count": 7,
   "metadata": {
    "ExecuteTime": {
     "end_time": "2020-12-05T08:27:32.899002Z",
     "start_time": "2020-12-05T08:27:32.893855Z"
    }
   },
   "outputs": [],
   "source": [
    "for module_mass in masses:\n",
    "    total_fuel_required = total_fuel_required + GetFuelRequired(int(module_mass))"
   ]
  },
  {
   "cell_type": "code",
   "execution_count": 8,
   "metadata": {
    "ExecuteTime": {
     "end_time": "2020-12-05T08:27:32.917768Z",
     "start_time": "2020-12-05T08:27:32.902286Z"
    }
   },
   "outputs": [
    {
     "data": {
      "text/plain": [
       "3273715"
      ]
     },
     "execution_count": 8,
     "metadata": {},
     "output_type": "execute_result"
    }
   ],
   "source": [
    "total_fuel_required"
   ]
  },
  {
   "cell_type": "markdown",
   "metadata": {},
   "source": [
    "## Part 2 "
   ]
  },
  {
   "cell_type": "code",
   "execution_count": 9,
   "metadata": {
    "ExecuteTime": {
     "end_time": "2020-12-05T08:27:32.927626Z",
     "start_time": "2020-12-05T08:27:32.921813Z"
    }
   },
   "outputs": [],
   "source": [
    "def GetAllFuelRequired(module_mass):\n",
    "    required_fuel = GetFuelRequired(module_mass)\n",
    "    \n",
    "    total_required_fuel = 0\n",
    "    \n",
    "    while required_fuel > 0:\n",
    "        total_required_fuel = total_required_fuel + required_fuel\n",
    "        required_fuel = GetFuelRequired(required_fuel)\n",
    "    \n",
    "    return total_required_fuel"
   ]
  },
  {
   "cell_type": "code",
   "execution_count": 10,
   "metadata": {
    "ExecuteTime": {
     "end_time": "2020-12-05T08:27:32.933452Z",
     "start_time": "2020-12-05T08:27:32.930767Z"
    }
   },
   "outputs": [],
   "source": [
    "total_fuel_required = 0"
   ]
  },
  {
   "cell_type": "code",
   "execution_count": 11,
   "metadata": {
    "ExecuteTime": {
     "end_time": "2020-12-05T08:27:32.941849Z",
     "start_time": "2020-12-05T08:27:32.936852Z"
    }
   },
   "outputs": [],
   "source": [
    "for module_mass in masses:\n",
    "    total_fuel_required = total_fuel_required + GetAllFuelRequired(int(module_mass))"
   ]
  },
  {
   "cell_type": "code",
   "execution_count": 12,
   "metadata": {
    "ExecuteTime": {
     "end_time": "2020-12-05T08:27:32.955089Z",
     "start_time": "2020-12-05T08:27:32.943881Z"
    }
   },
   "outputs": [
    {
     "data": {
      "text/plain": [
       "4907702"
      ]
     },
     "execution_count": 12,
     "metadata": {},
     "output_type": "execute_result"
    }
   ],
   "source": [
    "total_fuel_required"
   ]
  },
  {
   "cell_type": "code",
   "execution_count": null,
   "metadata": {},
   "outputs": [],
   "source": []
  }
 ],
 "metadata": {
  "kernelspec": {
   "display_name": "Python 3",
   "language": "python",
   "name": "python3"
  },
  "language_info": {
   "codemirror_mode": {
    "name": "ipython",
    "version": 3
   },
   "file_extension": ".py",
   "mimetype": "text/x-python",
   "name": "python",
   "nbconvert_exporter": "python",
   "pygments_lexer": "ipython3",
   "version": "3.7.8"
  }
 },
 "nbformat": 4,
 "nbformat_minor": 2
}
