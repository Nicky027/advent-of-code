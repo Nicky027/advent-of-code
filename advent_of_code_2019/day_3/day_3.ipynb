{
 "cells": [
  {
   "cell_type": "markdown",
   "metadata": {},
   "source": [
    "# Day 3 "
   ]
  },
  {
   "cell_type": "markdown",
   "metadata": {},
   "source": [
    "## Part 1 "
   ]
  },
  {
   "cell_type": "code",
   "execution_count": 167,
   "metadata": {
    "ExecuteTime": {
     "end_time": "2019-12-07T18:08:15.946414Z",
     "start_time": "2019-12-07T18:08:15.940923Z"
    }
   },
   "outputs": [],
   "source": [
    "from tqdm import tqdm"
   ]
  },
  {
   "cell_type": "code",
   "execution_count": 168,
   "metadata": {
    "ExecuteTime": {
     "end_time": "2019-12-07T18:08:16.402203Z",
     "start_time": "2019-12-07T18:08:16.396131Z"
    }
   },
   "outputs": [],
   "source": [
    "file = open('wire_paths.txt', 'r')"
   ]
  },
  {
   "cell_type": "code",
   "execution_count": 169,
   "metadata": {
    "ExecuteTime": {
     "end_time": "2019-12-07T18:08:16.979744Z",
     "start_time": "2019-12-07T18:08:16.975516Z"
    }
   },
   "outputs": [],
   "source": [
    "wire_paths = [x.replace('\\n','').split(',') for x in file]"
   ]
  },
  {
   "cell_type": "code",
   "execution_count": 170,
   "metadata": {
    "ExecuteTime": {
     "end_time": "2019-12-07T18:08:17.559471Z",
     "start_time": "2019-12-07T18:08:17.545629Z"
    }
   },
   "outputs": [],
   "source": [
    "class WirePath:\n",
    "    \n",
    "    def __init__(self, wire_path):\n",
    "        self.wire_path = wire_path\n",
    "        self.points_crossed = []\n",
    "        self.position = (0,0)\n",
    "    \n",
    "    def PrintSteps(self):\n",
    "        for x in self.wire_path:\n",
    "            print(x)\n",
    "            \n",
    "    def TraversePath(self):\n",
    "        for x in self.wire_path:\n",
    "            direction = x[0]\n",
    "            steps = int(x[1:])\n",
    "            \n",
    "            if direction == 'R':\n",
    "                for i in range(steps):\n",
    "                    self.position = (self.position[0] + 1, self.position[1])\n",
    "                    self.points_crossed.append(self.position)\n",
    "                \n",
    "            elif direction == 'L':\n",
    "                for i in range(steps):\n",
    "                    self.position = (self.position[0] - 1, self.position[1])\n",
    "                    self.points_crossed.append(self.position)\n",
    "                \n",
    "            elif direction == 'U':\n",
    "                for i in range(steps):\n",
    "                    self.position = (self.position[0], self.position[1] + 1)\n",
    "                    self.points_crossed.append(self.position)\n",
    "                \n",
    "            elif direction == 'D':\n",
    "                for i in range(steps):\n",
    "                    self.position = (self.position[0], self.position[1] - 1)\n",
    "                    self.points_crossed.append(self.position)\n",
    "                \n",
    "            else:\n",
    "                print('Error: Cannot interpret path. Exiting.')"
   ]
  },
  {
   "cell_type": "code",
   "execution_count": 171,
   "metadata": {
    "ExecuteTime": {
     "end_time": "2019-12-07T18:08:35.968610Z",
     "start_time": "2019-12-07T18:08:35.871150Z"
    }
   },
   "outputs": [],
   "source": [
    "wire_path_1 = WirePath(wire_paths[0])\n",
    "wire_path_1.TraversePath()"
   ]
  },
  {
   "cell_type": "code",
   "execution_count": 172,
   "metadata": {
    "ExecuteTime": {
     "end_time": "2019-12-07T18:08:36.850589Z",
     "start_time": "2019-12-07T18:08:36.758201Z"
    }
   },
   "outputs": [],
   "source": [
    "wire_path_2 = WirePath(wire_paths[1])\n",
    "wire_path_2.TraversePath()"
   ]
  },
  {
   "cell_type": "code",
   "execution_count": 173,
   "metadata": {
    "ExecuteTime": {
     "end_time": "2019-12-07T18:08:38.296789Z",
     "start_time": "2019-12-07T18:08:38.293442Z"
    }
   },
   "outputs": [],
   "source": [
    "common_points = []\n",
    "common_points_distances = []"
   ]
  },
  {
   "cell_type": "code",
   "execution_count": 174,
   "metadata": {
    "ExecuteTime": {
     "end_time": "2019-12-07T18:50:13.154621Z",
     "start_time": "2019-12-07T18:08:43.359131Z"
    }
   },
   "outputs": [
    {
     "name": "stderr",
     "output_type": "stream",
     "text": [
      "100%|██████████| 150200/150200 [41:29<00:00, 60.33it/s] \n"
     ]
    }
   ],
   "source": [
    "for a in tqdm(wire_path_1.points_crossed):\n",
    "    for b in wire_path_2.points_crossed:\n",
    "        if a == b:\n",
    "            common_points.append(a)\n",
    "            common_points_distances.append(abs(a[0])+abs(a[1]))"
   ]
  },
  {
   "cell_type": "code",
   "execution_count": 175,
   "metadata": {
    "ExecuteTime": {
     "end_time": "2019-12-07T18:50:13.161814Z",
     "start_time": "2019-12-07T18:50:13.157320Z"
    }
   },
   "outputs": [
    {
     "data": {
      "text/plain": [
       "1337"
      ]
     },
     "execution_count": 175,
     "metadata": {},
     "output_type": "execute_result"
    }
   ],
   "source": [
    "min(common_points_distances)"
   ]
  }
 ],
 "metadata": {
  "kernelspec": {
   "display_name": "Python 3",
   "language": "python",
   "name": "python3"
  },
  "language_info": {
   "codemirror_mode": {
    "name": "ipython",
    "version": 3
   },
   "file_extension": ".py",
   "mimetype": "text/x-python",
   "name": "python",
   "nbconvert_exporter": "python",
   "pygments_lexer": "ipython3",
   "version": "3.7.5"
  }
 },
 "nbformat": 4,
 "nbformat_minor": 2
}
