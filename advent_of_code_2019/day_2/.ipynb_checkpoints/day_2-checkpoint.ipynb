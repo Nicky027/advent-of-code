{
 "cells": [
  {
   "cell_type": "markdown",
   "metadata": {},
   "source": [
    "# Day 2"
   ]
  },
  {
   "cell_type": "markdown",
   "metadata": {},
   "source": [
    "## Part 1"
   ]
  },
  {
   "cell_type": "code",
   "execution_count": 1,
   "metadata": {
    "ExecuteTime": {
     "end_time": "2020-12-06T07:27:33.764562Z",
     "start_time": "2020-12-06T07:27:33.761806Z"
    }
   },
   "outputs": [],
   "source": [
    "file = open('code.txt','r')"
   ]
  },
  {
   "cell_type": "code",
   "execution_count": 2,
   "metadata": {
    "ExecuteTime": {
     "end_time": "2020-12-06T07:27:33.770170Z",
     "start_time": "2020-12-06T07:27:33.767465Z"
    }
   },
   "outputs": [],
   "source": [
    "code = file.read()"
   ]
  },
  {
   "cell_type": "code",
   "execution_count": 3,
   "metadata": {
    "ExecuteTime": {
     "end_time": "2020-12-06T07:27:33.775432Z",
     "start_time": "2020-12-06T07:27:33.772462Z"
    }
   },
   "outputs": [],
   "source": [
    "code = code.replace('\\n','')"
   ]
  },
  {
   "cell_type": "code",
   "execution_count": 4,
   "metadata": {
    "ExecuteTime": {
     "end_time": "2020-12-06T07:27:33.781186Z",
     "start_time": "2020-12-06T07:27:33.777817Z"
    }
   },
   "outputs": [],
   "source": [
    "code_array = code.split(',')"
   ]
  },
  {
   "cell_type": "code",
   "execution_count": 5,
   "metadata": {
    "ExecuteTime": {
     "end_time": "2020-12-06T07:27:33.786562Z",
     "start_time": "2020-12-06T07:27:33.783382Z"
    }
   },
   "outputs": [],
   "source": [
    "code_array = [int(x) for x in code_array]"
   ]
  },
  {
   "cell_type": "code",
   "execution_count": 6,
   "metadata": {
    "ExecuteTime": {
     "end_time": "2020-12-06T07:27:33.793405Z",
     "start_time": "2020-12-06T07:27:33.790777Z"
    }
   },
   "outputs": [],
   "source": [
    "code_array[1] = 12\n",
    "code_array[2] = 2"
   ]
  },
  {
   "cell_type": "code",
   "execution_count": 7,
   "metadata": {
    "ExecuteTime": {
     "end_time": "2020-12-06T07:27:33.802461Z",
     "start_time": "2020-12-06T07:27:33.797031Z"
    }
   },
   "outputs": [],
   "source": [
    "def MakeCalculation(input_array):\n",
    "    code_array = input_array\n",
    "\n",
    "    i = 0 \n",
    "\n",
    "    while i < len(code_array):\n",
    "        if code_array[i] == 99:\n",
    "            # print('Calculation Done.')\n",
    "            break\n",
    "        elif code_array[i] == 1:\n",
    "            j1 = code_array[i+1]\n",
    "            j2 = code_array[i+2]\n",
    "            j3 = code_array[i+3]\n",
    "            code_array[j3] = code_array[j1] + code_array[j2]\n",
    "            i = i + 4\n",
    "        elif code_array[i] == 2:\n",
    "            j1 = code_array[i+1]\n",
    "            j2 = code_array[i+2]\n",
    "            j3 = code_array[i+3]\n",
    "            code_array[j3] = code_array[j1] * code_array[j2]\n",
    "            i = i + 4\n",
    "        else:\n",
    "            print('Cannot interpret intcode! Exiting.')\n",
    "            break\n",
    "    \n",
    "    return code_array"
   ]
  },
  {
   "cell_type": "code",
   "execution_count": 8,
   "metadata": {
    "ExecuteTime": {
     "end_time": "2020-12-06T07:27:33.807485Z",
     "start_time": "2020-12-06T07:27:33.804953Z"
    }
   },
   "outputs": [],
   "source": [
    "output_array = MakeCalculation(code_array)"
   ]
  },
  {
   "cell_type": "code",
   "execution_count": 9,
   "metadata": {
    "ExecuteTime": {
     "end_time": "2020-12-06T07:27:33.820404Z",
     "start_time": "2020-12-06T07:27:33.809671Z"
    }
   },
   "outputs": [
    {
     "data": {
      "text/plain": [
       "4090701"
      ]
     },
     "execution_count": 9,
     "metadata": {},
     "output_type": "execute_result"
    }
   ],
   "source": [
    "output_array[0]"
   ]
  },
  {
   "cell_type": "markdown",
   "metadata": {},
   "source": [
    "## Part 2"
   ]
  },
  {
   "cell_type": "code",
   "execution_count": 10,
   "metadata": {
    "ExecuteTime": {
     "end_time": "2020-12-06T07:27:33.828506Z",
     "start_time": "2020-12-06T07:27:33.824265Z"
    }
   },
   "outputs": [],
   "source": [
    "file = open('code.txt','r')"
   ]
  },
  {
   "cell_type": "code",
   "execution_count": 11,
   "metadata": {
    "ExecuteTime": {
     "end_time": "2020-12-06T07:27:33.836552Z",
     "start_time": "2020-12-06T07:27:33.832078Z"
    }
   },
   "outputs": [],
   "source": [
    "code = file.read()"
   ]
  },
  {
   "cell_type": "code",
   "execution_count": 12,
   "metadata": {
    "ExecuteTime": {
     "end_time": "2020-12-06T07:27:33.843095Z",
     "start_time": "2020-12-06T07:27:33.839780Z"
    }
   },
   "outputs": [],
   "source": [
    "code = code.replace('\\n','')"
   ]
  },
  {
   "cell_type": "code",
   "execution_count": 13,
   "metadata": {
    "ExecuteTime": {
     "end_time": "2020-12-06T07:27:33.849957Z",
     "start_time": "2020-12-06T07:27:33.845818Z"
    }
   },
   "outputs": [],
   "source": [
    "code_array = code.split(',')"
   ]
  },
  {
   "cell_type": "code",
   "execution_count": 14,
   "metadata": {
    "ExecuteTime": {
     "end_time": "2020-12-06T07:27:33.857385Z",
     "start_time": "2020-12-06T07:27:33.852560Z"
    }
   },
   "outputs": [],
   "source": [
    "code_array = [int(x) for x in code_array]"
   ]
  },
  {
   "cell_type": "code",
   "execution_count": 15,
   "metadata": {
    "ExecuteTime": {
     "end_time": "2020-12-06T07:27:34.056042Z",
     "start_time": "2020-12-06T07:27:33.862413Z"
    }
   },
   "outputs": [],
   "source": [
    "for i in range(100):\n",
    "    for j in range(100):\n",
    "        input_code = code_array.copy()\n",
    "        input_code[1] = i\n",
    "        input_code[2] = j\n",
    "        output_code = MakeCalculation(input_code)\n",
    "        # print(f'noun={i}, verb={j}, output={output_code[0]}')        "
   ]
  },
  {
   "cell_type": "code",
   "execution_count": 16,
   "metadata": {
    "ExecuteTime": {
     "end_time": "2020-12-06T07:27:34.062253Z",
     "start_time": "2020-12-06T07:27:34.058973Z"
    }
   },
   "outputs": [],
   "source": [
    "test_array = code_array.copy()"
   ]
  },
  {
   "cell_type": "code",
   "execution_count": 17,
   "metadata": {
    "ExecuteTime": {
     "end_time": "2020-12-06T07:27:34.069525Z",
     "start_time": "2020-12-06T07:27:34.064655Z"
    }
   },
   "outputs": [
    {
     "data": {
      "text/plain": [
       "19690720"
      ]
     },
     "execution_count": 17,
     "metadata": {},
     "output_type": "execute_result"
    }
   ],
   "source": [
    "test_array[1] = 64\n",
    "test_array[2] = 21\n",
    "MakeCalculation(test_array)[0]"
   ]
  },
  {
   "cell_type": "code",
   "execution_count": 18,
   "metadata": {
    "ExecuteTime": {
     "end_time": "2020-12-06T07:27:34.076560Z",
     "start_time": "2020-12-06T07:27:34.072644Z"
    }
   },
   "outputs": [
    {
     "data": {
      "text/plain": [
       "6421"
      ]
     },
     "execution_count": 18,
     "metadata": {},
     "output_type": "execute_result"
    }
   ],
   "source": [
    "100 * 64 + 21"
   ]
  },
  {
   "cell_type": "code",
   "execution_count": null,
   "metadata": {},
   "outputs": [],
   "source": []
  }
 ],
 "metadata": {
  "kernelspec": {
   "display_name": "Python 3",
   "language": "python",
   "name": "python3"
  },
  "language_info": {
   "codemirror_mode": {
    "name": "ipython",
    "version": 3
   },
   "file_extension": ".py",
   "mimetype": "text/x-python",
   "name": "python",
   "nbconvert_exporter": "python",
   "pygments_lexer": "ipython3",
   "version": "3.7.8"
  }
 },
 "nbformat": 4,
 "nbformat_minor": 2
}
