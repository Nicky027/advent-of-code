{
 "cells": [
  {
   "cell_type": "markdown",
   "metadata": {},
   "source": [
    "# Day 4"
   ]
  },
  {
   "cell_type": "markdown",
   "metadata": {},
   "source": [
    "## Part 1"
   ]
  },
  {
   "cell_type": "code",
   "execution_count": 1,
   "metadata": {
    "ExecuteTime": {
     "end_time": "2020-12-05T09:57:27.032664Z",
     "start_time": "2020-12-05T09:57:27.028756Z"
    }
   },
   "outputs": [],
   "source": [
    "def validate(password):\n",
    "    password = str(password)\n",
    "\n",
    "    adjacent_digits = False\n",
    "    non_decreasing = True\n",
    "    \n",
    "    for i in range(len(password)-1):\n",
    "        if password[i] == password[i+1]:\n",
    "            adjacent_digits = True\n",
    "        if password[i+1] < password[i]:\n",
    "            non_decreasing = False\n",
    "    \n",
    "    return adjacent_digits and non_decreasing    "
   ]
  },
  {
   "cell_type": "code",
   "execution_count": 2,
   "metadata": {
    "ExecuteTime": {
     "end_time": "2020-12-05T09:57:28.124317Z",
     "start_time": "2020-12-05T09:57:27.035262Z"
    }
   },
   "outputs": [
    {
     "data": {
      "text/plain": [
       "1955"
      ]
     },
     "execution_count": 2,
     "metadata": {},
     "output_type": "execute_result"
    }
   ],
   "source": [
    "valid_passwords = []\n",
    "\n",
    "for i in range(134792, 675810+1):\n",
    "    if validate(i):\n",
    "        valid_passwords.append(i)\n",
    "        \n",
    "len(valid_passwords)"
   ]
  },
  {
   "cell_type": "markdown",
   "metadata": {},
   "source": [
    "## Part 2"
   ]
  },
  {
   "cell_type": "code",
   "execution_count": 3,
   "metadata": {
    "ExecuteTime": {
     "end_time": "2020-12-05T09:57:28.132356Z",
     "start_time": "2020-12-05T09:57:28.127049Z"
    }
   },
   "outputs": [],
   "source": [
    "def validate_2(password):\n",
    "    password = str(password)\n",
    "\n",
    "    adjacent_pair = False\n",
    "    non_decreasing = True\n",
    "    \n",
    "    for i in range(1, len(password)-2):\n",
    "        if password[i-1] != password[i] and password[i] == password[i+1] and password[i+2] != password[i]:\n",
    "            adjacent_pair = True\n",
    "    if (password[-1] == password[-2] != password[-3]) or (password[0] == password[1] != password[2]):\n",
    "        adjacent_pair = True\n",
    "    for i in range(len(password)-1):\n",
    "        if password[i+1] < password[i]:\n",
    "            non_decreasing = False\n",
    "    \n",
    "    return adjacent_pair and non_decreasing    "
   ]
  },
  {
   "cell_type": "code",
   "execution_count": 4,
   "metadata": {
    "ExecuteTime": {
     "end_time": "2020-12-05T09:57:29.574080Z",
     "start_time": "2020-12-05T09:57:28.137234Z"
    }
   },
   "outputs": [
    {
     "data": {
      "text/plain": [
       "1319"
      ]
     },
     "execution_count": 4,
     "metadata": {},
     "output_type": "execute_result"
    }
   ],
   "source": [
    "valid_passwords = []\n",
    "\n",
    "for i in range(134792, 675810+1):\n",
    "    if validate_2(i):\n",
    "        valid_passwords.append(i)\n",
    "        \n",
    "len(valid_passwords)"
   ]
  },
  {
   "cell_type": "code",
   "execution_count": null,
   "metadata": {},
   "outputs": [],
   "source": []
  }
 ],
 "metadata": {
  "kernelspec": {
   "display_name": "Python 3",
   "language": "python",
   "name": "python3"
  },
  "language_info": {
   "codemirror_mode": {
    "name": "ipython",
    "version": 3
   },
   "file_extension": ".py",
   "mimetype": "text/x-python",
   "name": "python",
   "nbconvert_exporter": "python",
   "pygments_lexer": "ipython3",
   "version": "3.7.8"
  }
 },
 "nbformat": 4,
 "nbformat_minor": 4
}
