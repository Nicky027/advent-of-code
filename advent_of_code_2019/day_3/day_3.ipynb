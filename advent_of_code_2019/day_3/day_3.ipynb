{
 "cells": [
  {
   "cell_type": "markdown",
   "metadata": {},
   "source": [
    "# Day 3 "
   ]
  },
  {
   "cell_type": "code",
   "execution_count": 1,
   "metadata": {
    "ExecuteTime": {
     "end_time": "2020-12-05T09:19:16.813834Z",
     "start_time": "2020-12-05T09:19:16.321787Z"
    }
   },
   "outputs": [],
   "source": [
    "from tqdm import tqdm\n",
    "import numpy as np\n",
    "import pandas as pd"
   ]
  },
  {
   "cell_type": "code",
   "execution_count": 2,
   "metadata": {
    "ExecuteTime": {
     "end_time": "2020-12-05T09:19:16.818919Z",
     "start_time": "2020-12-05T09:19:16.815886Z"
    }
   },
   "outputs": [],
   "source": [
    "file = open('wire_paths.txt', 'r')"
   ]
  },
  {
   "cell_type": "code",
   "execution_count": 3,
   "metadata": {
    "ExecuteTime": {
     "end_time": "2020-12-05T09:19:16.825187Z",
     "start_time": "2020-12-05T09:19:16.821717Z"
    }
   },
   "outputs": [],
   "source": [
    "wire_paths = [x.replace('\\n','').split(',') for x in file]"
   ]
  },
  {
   "cell_type": "code",
   "execution_count": 4,
   "metadata": {
    "ExecuteTime": {
     "end_time": "2020-12-05T09:19:16.838662Z",
     "start_time": "2020-12-05T09:19:16.830431Z"
    }
   },
   "outputs": [],
   "source": [
    "class WirePath:\n",
    "    \n",
    "    def __init__(self, wire_path):\n",
    "        self.wire_path = wire_path\n",
    "        self.points_crossed = []\n",
    "        self.position = (0,0)\n",
    "        self.total_steps = 0\n",
    "    \n",
    "    def PrintSteps(self):\n",
    "        for x in self.wire_path:\n",
    "            print(x)\n",
    "            \n",
    "    def TraversePath(self):\n",
    "        for x in self.wire_path:\n",
    "            direction = x[0]\n",
    "            steps = int(x[1:])\n",
    "            \n",
    "            if direction == 'R':\n",
    "                for i in range(steps):\n",
    "                    self.position = (self.position[0] + 1, self.position[1])\n",
    "                    self.total_steps = self.total_steps + 1\n",
    "                    self.points_crossed.append({\"position\":self.position, \"total_steps\": self.total_steps})\n",
    "                \n",
    "            elif direction == 'L':\n",
    "                for i in range(steps):\n",
    "                    self.position = (self.position[0] - 1, self.position[1])\n",
    "                    self.total_steps = self.total_steps + 1\n",
    "                    self.points_crossed.append({\"position\":self.position, \"total_steps\": self.total_steps})\n",
    "                \n",
    "            elif direction == 'U':\n",
    "                for i in range(steps):\n",
    "                    self.position = (self.position[0], self.position[1] + 1)\n",
    "                    self.total_steps = self.total_steps + 1\n",
    "                    self.points_crossed.append({\"position\":self.position, \"total_steps\": self.total_steps})\n",
    "                \n",
    "            elif direction == 'D':\n",
    "                for i in range(steps):\n",
    "                    self.position = (self.position[0], self.position[1] - 1)\n",
    "                    self.total_steps = self.total_steps + 1\n",
    "                    self.points_crossed.append({\"position\":self.position, \"total_steps\": self.total_steps})\n",
    "                \n",
    "            else:\n",
    "                print('Error: Cannot interpret path. Exiting.')"
   ]
  },
  {
   "cell_type": "code",
   "execution_count": 5,
   "metadata": {
    "ExecuteTime": {
     "end_time": "2020-12-05T09:19:17.107384Z",
     "start_time": "2020-12-05T09:19:16.840918Z"
    }
   },
   "outputs": [],
   "source": [
    "wire_path_1 = WirePath(wire_paths[0])\n",
    "wire_path_1.TraversePath()"
   ]
  },
  {
   "cell_type": "code",
   "execution_count": 6,
   "metadata": {
    "ExecuteTime": {
     "end_time": "2020-12-05T09:19:17.343927Z",
     "start_time": "2020-12-05T09:19:17.110052Z"
    }
   },
   "outputs": [],
   "source": [
    "wire_path_2 = WirePath(wire_paths[1])\n",
    "wire_path_2.TraversePath()"
   ]
  },
  {
   "cell_type": "code",
   "execution_count": 7,
   "metadata": {
    "ExecuteTime": {
     "end_time": "2020-12-05T09:19:17.348397Z",
     "start_time": "2020-12-05T09:19:17.345927Z"
    }
   },
   "outputs": [],
   "source": [
    "common_points = []\n",
    "common_points_distances = []\n",
    "common_points_steps = []"
   ]
  },
  {
   "cell_type": "code",
   "execution_count": 8,
   "metadata": {
    "ExecuteTime": {
     "end_time": "2020-12-05T09:19:17.776852Z",
     "start_time": "2020-12-05T09:19:17.350127Z"
    }
   },
   "outputs": [],
   "source": [
    "path_1 = pd.DataFrame(wire_path_1.points_crossed)\n",
    "path_1[\"x\"] = path_1[\"position\"].apply(lambda x: x[0])\n",
    "path_1[\"y\"] = path_1[\"position\"].apply(lambda x: x[1])\n",
    "path_2 = pd.DataFrame(wire_path_2.points_crossed)\n",
    "path_2[\"x\"] = path_2[\"position\"].apply(lambda x: x[0])\n",
    "path_2[\"y\"] = path_2[\"position\"].apply(lambda x: x[1])"
   ]
  },
  {
   "cell_type": "code",
   "execution_count": 9,
   "metadata": {
    "ExecuteTime": {
     "end_time": "2020-12-05T09:19:17.782264Z",
     "start_time": "2020-12-05T09:19:17.778681Z"
    }
   },
   "outputs": [],
   "source": [
    "xes = path_1[\"x\"].unique()"
   ]
  },
  {
   "cell_type": "code",
   "execution_count": 10,
   "metadata": {
    "ExecuteTime": {
     "end_time": "2020-12-05T09:19:32.157414Z",
     "start_time": "2020-12-05T09:19:17.783714Z"
    }
   },
   "outputs": [
    {
     "name": "stderr",
     "output_type": "stream",
     "text": [
      "100%|██████████| 11280/11280 [00:14<00:00, 785.45it/s]\n"
     ]
    }
   ],
   "source": [
    "for x in tqdm(xes):\n",
    "    y1 = path_1.loc[path_1[\"x\"]==x, \"y\"]\n",
    "    y2 = path_2.loc[path_2[\"x\"]==x, \"y\"]\n",
    "    for a in y1:\n",
    "        for b in y2:\n",
    "            if a == b:\n",
    "                common_points.append((x,a))\n",
    "                common_points_distances.append(abs(x)+abs(a))\n",
    "                path_1_steps = path_1.loc[(path_1[\"x\"]==x) & (path_1[\"y\"]==a), \"total_steps\"].min()\n",
    "                path_2_steps = path_2.loc[(path_2[\"x\"]==x) & (path_2[\"y\"]==a), \"total_steps\"].min()\n",
    "                common_points_steps.append(path_1_steps+path_2_steps)"
   ]
  },
  {
   "cell_type": "code",
   "execution_count": 11,
   "metadata": {
    "ExecuteTime": {
     "end_time": "2020-12-05T09:19:32.170061Z",
     "start_time": "2020-12-05T09:19:32.159293Z"
    }
   },
   "outputs": [
    {
     "data": {
      "text/plain": [
       "232"
      ]
     },
     "execution_count": 11,
     "metadata": {},
     "output_type": "execute_result"
    }
   ],
   "source": [
    "min(common_points_distances)"
   ]
  },
  {
   "cell_type": "code",
   "execution_count": 12,
   "metadata": {
    "ExecuteTime": {
     "end_time": "2020-12-05T09:19:32.177561Z",
     "start_time": "2020-12-05T09:19:32.173274Z"
    }
   },
   "outputs": [
    {
     "data": {
      "text/plain": [
       "6084"
      ]
     },
     "execution_count": 12,
     "metadata": {},
     "output_type": "execute_result"
    }
   ],
   "source": [
    "min(common_points_steps)"
   ]
  },
  {
   "cell_type": "code",
   "execution_count": null,
   "metadata": {},
   "outputs": [],
   "source": []
  }
 ],
 "metadata": {
  "kernelspec": {
   "display_name": "Python 3",
   "language": "python",
   "name": "python3"
  },
  "language_info": {
   "codemirror_mode": {
    "name": "ipython",
    "version": 3
   },
   "file_extension": ".py",
   "mimetype": "text/x-python",
   "name": "python",
   "nbconvert_exporter": "python",
   "pygments_lexer": "ipython3",
   "version": "3.7.8"
  }
 },
 "nbformat": 4,
 "nbformat_minor": 2
}
