{
 "cells": [
  {
   "cell_type": "markdown",
   "metadata": {},
   "source": [
    "# Day 1 "
   ]
  },
  {
   "cell_type": "markdown",
   "metadata": {},
   "source": [
    "## Part 1 "
   ]
  },
  {
   "cell_type": "code",
   "execution_count": 3,
   "metadata": {
    "ExecuteTime": {
     "end_time": "2019-12-06T20:48:16.082802Z",
     "start_time": "2019-12-06T20:48:16.068640Z"
    }
   },
   "outputs": [],
   "source": [
    "import math"
   ]
  },
  {
   "cell_type": "code",
   "execution_count": 45,
   "metadata": {
    "ExecuteTime": {
     "end_time": "2019-12-06T21:20:07.777143Z",
     "start_time": "2019-12-06T21:20:07.772566Z"
    }
   },
   "outputs": [],
   "source": [
    "def GetFuelRequired(module_mass):\n",
    "    return math.floor(module_mass / 3.0) - 2"
   ]
  },
  {
   "cell_type": "code",
   "execution_count": 25,
   "metadata": {
    "ExecuteTime": {
     "end_time": "2019-12-06T20:53:39.651563Z",
     "start_time": "2019-12-06T20:53:39.638168Z"
    }
   },
   "outputs": [],
   "source": [
    "masses = []"
   ]
  },
  {
   "cell_type": "code",
   "execution_count": 26,
   "metadata": {
    "ExecuteTime": {
     "end_time": "2019-12-06T20:53:39.935728Z",
     "start_time": "2019-12-06T20:53:39.930898Z"
    }
   },
   "outputs": [],
   "source": [
    "file = open('module_masses.txt','r')"
   ]
  },
  {
   "cell_type": "code",
   "execution_count": 27,
   "metadata": {
    "ExecuteTime": {
     "end_time": "2019-12-06T20:53:40.173687Z",
     "start_time": "2019-12-06T20:53:40.167642Z"
    }
   },
   "outputs": [],
   "source": [
    "for line in file:\n",
    "    masses.append(line.replace('\\n',''))"
   ]
  },
  {
   "cell_type": "code",
   "execution_count": 32,
   "metadata": {
    "ExecuteTime": {
     "end_time": "2019-12-06T20:54:33.323256Z",
     "start_time": "2019-12-06T20:54:33.319247Z"
    }
   },
   "outputs": [],
   "source": [
    "total_fuel_required = 0"
   ]
  },
  {
   "cell_type": "code",
   "execution_count": 33,
   "metadata": {
    "ExecuteTime": {
     "end_time": "2019-12-06T20:55:30.498902Z",
     "start_time": "2019-12-06T20:55:30.491647Z"
    }
   },
   "outputs": [],
   "source": [
    "for module_mass in masses:\n",
    "    total_fuel_required = total_fuel_required + GetFuelRequired(int(module_mass))"
   ]
  },
  {
   "cell_type": "code",
   "execution_count": 34,
   "metadata": {
    "ExecuteTime": {
     "end_time": "2019-12-06T20:55:36.124132Z",
     "start_time": "2019-12-06T20:55:36.115754Z"
    }
   },
   "outputs": [
    {
     "data": {
      "text/plain": [
       "3282386"
      ]
     },
     "execution_count": 34,
     "metadata": {},
     "output_type": "execute_result"
    }
   ],
   "source": [
    "total_fuel_required"
   ]
  },
  {
   "cell_type": "markdown",
   "metadata": {},
   "source": [
    "## Part 2 "
   ]
  },
  {
   "cell_type": "code",
   "execution_count": 53,
   "metadata": {
    "ExecuteTime": {
     "end_time": "2019-12-06T21:22:41.777223Z",
     "start_time": "2019-12-06T21:22:41.767936Z"
    }
   },
   "outputs": [],
   "source": [
    "def GetAllFuelRequired(module_mass):\n",
    "    required_fuel = GetFuelRequired(module_mass)\n",
    "    \n",
    "    total_required_fuel = 0\n",
    "    \n",
    "    while required_fuel > 0:\n",
    "        total_required_fuel = total_required_fuel + required_fuel\n",
    "        required_fuel = GetFuelRequired(required_fuel)\n",
    "    \n",
    "    return total_required_fuel"
   ]
  },
  {
   "cell_type": "code",
   "execution_count": 57,
   "metadata": {
    "ExecuteTime": {
     "end_time": "2019-12-06T21:24:11.497308Z",
     "start_time": "2019-12-06T21:24:11.488308Z"
    }
   },
   "outputs": [],
   "source": [
    "total_fuel_required = 0"
   ]
  },
  {
   "cell_type": "code",
   "execution_count": 58,
   "metadata": {
    "ExecuteTime": {
     "end_time": "2019-12-06T21:24:12.039482Z",
     "start_time": "2019-12-06T21:24:12.035934Z"
    }
   },
   "outputs": [],
   "source": [
    "for module_mass in masses:\n",
    "    total_fuel_required = total_fuel_required + GetAllFuelRequired(int(module_mass))"
   ]
  },
  {
   "cell_type": "code",
   "execution_count": 59,
   "metadata": {
    "ExecuteTime": {
     "end_time": "2019-12-06T21:24:17.328230Z",
     "start_time": "2019-12-06T21:24:17.323138Z"
    }
   },
   "outputs": [
    {
     "data": {
      "text/plain": [
       "4920708"
      ]
     },
     "execution_count": 59,
     "metadata": {},
     "output_type": "execute_result"
    }
   ],
   "source": [
    "total_fuel_required"
   ]
  },
  {
   "cell_type": "code",
   "execution_count": null,
   "metadata": {},
   "outputs": [],
   "source": []
  }
 ],
 "metadata": {
  "kernelspec": {
   "display_name": "Python 3",
   "language": "python",
   "name": "python3"
  },
  "language_info": {
   "codemirror_mode": {
    "name": "ipython",
    "version": 3
   },
   "file_extension": ".py",
   "mimetype": "text/x-python",
   "name": "python",
   "nbconvert_exporter": "python",
   "pygments_lexer": "ipython3",
   "version": "3.7.5"
  }
 },
 "nbformat": 4,
 "nbformat_minor": 2
}
